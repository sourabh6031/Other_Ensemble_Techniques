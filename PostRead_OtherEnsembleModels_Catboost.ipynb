{
  "nbformat": 4,
  "nbformat_minor": 0,
  "metadata": {
    "colab": {
      "provenance": []
    },
    "kernelspec": {
      "name": "python3",
      "display_name": "Python 3"
    },
    "language_info": {
      "name": "python"
    }
  },
  "cells": [
    {
      "cell_type": "markdown",
      "source": [
        "## CatBoost"
      ],
      "metadata": {
        "id": "U7NDElCLanof"
      }
    },
    {
      "cell_type": "markdown",
      "source": [
        "- short for Categorical boosting\n",
        "- Developed by yandex and open sourced in 2017.\n",
        "\n"
      ],
      "metadata": {
        "id": "PanGlmQha-bc"
      }
    },
    {
      "cell_type": "markdown",
      "source": [
        "### What makes it different from other Gradient boosting techniques ?\n"
      ],
      "metadata": {
        "id": "bEvhAWJkbEwb"
      }
    },
    {
      "cell_type": "markdown",
      "source": [
        "#### 1. Symmetric trees"
      ],
      "metadata": {
        "id": "02Gzr2iYb5YL"
      }
    },
    {
      "cell_type": "markdown",
      "source": [
        "CatBoost builds **symmetric (balanced) trees**, unlike XGBoost and LightGBM.\n",
        "\n"
      ],
      "metadata": {
        "id": "8_QW6NqncAaT"
      }
    },
    {
      "cell_type": "markdown",
      "source": [
        "#### What are symmetric trees ?\n",
        "\n"
      ],
      "metadata": {
        "id": "66LdXcGxcFDg"
      }
    },
    {
      "cell_type": "markdown",
      "source": [
        "A conventional decision tree will have different condition within each level of tree.\n",
        "\n",
        "- But a symmetric trees will have same split condition at each level of tree\n",
        "\n",
        "Let's see how it looks:"
      ],
      "metadata": {
        "id": "QNPF5Ki4fC2w"
      }
    },
    {
      "cell_type": "markdown",
      "source": [
        "\n",
        "\n",
        "<center><img src='https://d2beiqkhq929f0.cloudfront.net/public_assets/assets/000/063/367/original/img.png?1706166816' width=800></center>\n",
        "\n",
        "\n"
      ],
      "metadata": {
        "id": "AzxEMjSAchHl"
      }
    },
    {
      "cell_type": "markdown",
      "source": [
        "#### But, this using same split condition will make predictions worse ?\n",
        "\n",
        "Yes!\n",
        "- And this is the way cat-boost makes base learners weak (and avoids overfitting)\n",
        "- using adds these learners sequentially to eventually make the final prediction."
      ],
      "metadata": {
        "id": "WjdpquZIeDIu"
      }
    },
    {
      "cell_type": "markdown",
      "source": [
        "#### How do these symmetric trees help ?"
      ],
      "metadata": {
        "id": "3O0thHf_ekrk"
      }
    },
    {
      "cell_type": "markdown",
      "source": [
        "This balanced tree architecture aids in efficient CPU implementation, decreases prediction time\n",
        "- When each level has the same condition to evaluate => reduces inference time (in this case, Income > 10k)\n",
        "- Compared to when there are different conditions to evaluate at the same level.\n",
        "\n",
        "Hence, making catboost faster and avoid overfitting\n"
      ],
      "metadata": {
        "id": "waikjGsJetZ4"
      }
    },
    {
      "cell_type": "markdown",
      "source": [
        "#### 2. Categorical feature encoding support\n"
      ],
      "metadata": {
        "id": "nJ1NyhS9f_SQ"
      }
    },
    {
      "cell_type": "markdown",
      "source": [
        "Other boosting algo (GBDT, XGBoost, LightGBM) involves\n",
        "- encoding the categorical features explicitly before inputting them.\n",
        "\n",
        "This is not the case with CatBoost\n",
        "- you don't have to encode the categorical features\n",
        "- it does the categorical encoding implicitly."
      ],
      "metadata": {
        "id": "UgTpFTaYgCCF"
      }
    },
    {
      "cell_type": "markdown",
      "source": [
        "#### Which categorical encoding does Catboost support?"
      ],
      "metadata": {
        "id": "I78i1qfjlgbv"
      }
    },
    {
      "cell_type": "markdown",
      "source": [
        "CatBoost supports some traditional methods of categorical data preprocessing, such as\n",
        "- One-hot Encoding and\n",
        "- Frequency Encoding."
      ],
      "metadata": {
        "id": "EeaQxO-BllpA"
      }
    },
    {
      "cell_type": "markdown",
      "source": [
        "Note: It also **support text data as input** (and encodes it internally)\n",
        "- Does tokenization, creates dict and applies BoW based on dict size.\n",
        "\n",
        "\n",
        "\n",
        "Extra read: https://catboost.ai/en/concepts/algorithm-main-stages_text-to-numeric\n"
      ],
      "metadata": {
        "id": "-3iyY4OSgdOR"
      }
    },
    {
      "cell_type": "markdown",
      "source": [
        "#### 3. Avoiding leakage using Ordered encoding"
      ],
      "metadata": {
        "id": "OB4mUtG-sXpn"
      }
    },
    {
      "cell_type": "markdown",
      "source": [
        "#### How do we do categorical encoding traditionally?\n"
      ],
      "metadata": {
        "id": "yMvBD7AktuSt"
      }
    },
    {
      "cell_type": "markdown",
      "source": [
        "- 2 categories ? => binary encoding\n",
        "- More than 2 ? => One hot encoding\n",
        "- One hot increases the sparsity of the data => use target encdoing\n",
        "- But the target encoding introduces leakage in the data.\n",
        "    - as it is based on the distribution of target variable\n"
      ],
      "metadata": {
        "id": "CfykgpTNtyF1"
      }
    },
    {
      "cell_type": "markdown",
      "source": [
        "#### How to solve the issue when there are more than > 2 categaries ?"
      ],
      "metadata": {
        "id": "IVzQPs9QuRBN"
      }
    },
    {
      "cell_type": "markdown",
      "source": [
        "In order to deal with this problem,\n",
        "- they introduced a noval technique to encode features i.e. **ordered target encoding**\n",
        "- Ordered target encoding has been built upon target encoding but it takes into account the order of the data point\n",
        "\n",
        "Let's see how it does that\n"
      ],
      "metadata": {
        "id": "w1xTau-DuVjF"
      }
    },
    {
      "cell_type": "markdown",
      "source": [
        "#### Intuition behind ordered target encoding"
      ],
      "metadata": {
        "id": "nlN_AH8KuK78"
      }
    },
    {
      "cell_type": "markdown",
      "source": [
        "Let's look into how does ordered encoding work"
      ],
      "metadata": {
        "id": "7Jfkk7wnuM6A"
      }
    },
    {
      "cell_type": "markdown",
      "source": [
        "Say, we have the following data:"
      ],
      "metadata": {
        "id": "Yat-suZfzXS9"
      }
    },
    {
      "cell_type": "markdown",
      "source": [
        "\n",
        "\n",
        "<center><img src='https://d2beiqkhq929f0.cloudfront.net/public_assets/assets/000/063/390/original/z.png?1706172944' width=600></center>\n",
        "\n",
        "\n",
        "\n",
        "\n"
      ],
      "metadata": {
        "id": "tovkvD0M1NoZ"
      }
    },
    {
      "cell_type": "markdown",
      "source": [
        "The data has 2 features and a target variable:\n",
        "- Color (categorical)\n",
        "- height (numerical)\n",
        "- Loves Troll 2 (target variable)"
      ],
      "metadata": {
        "id": "X8Z7jirn1bas"
      }
    },
    {
      "cell_type": "markdown",
      "source": [
        "In order to encode the Color column using Ordered target encoding,\n",
        "\n",
        "1. it'll first randomize the data (a random permutation)"
      ],
      "metadata": {
        "id": "7x2nBTXZ1o91"
      }
    },
    {
      "cell_type": "markdown",
      "source": [
        "\n",
        "\n",
        "<center><img src='https://d2beiqkhq929f0.cloudfront.net/public_assets/assets/000/063/391/original/z1.png?1706173231' width=800></center>\n",
        "\n",
        "\n",
        "\n",
        "\n",
        "\n",
        "\n"
      ],
      "metadata": {
        "id": "71xoc3cg2YgI"
      }
    },
    {
      "cell_type": "markdown",
      "source": [
        "2. It'll perform target encoding in such way\n",
        "    - in order to calulcate the value of current category\n",
        "    - it'll only consider datapoint which are before the current datapoint\n",
        "\n",
        "Let's see that using an example:"
      ],
      "metadata": {
        "id": "cOrs02-N2dp3"
      }
    },
    {
      "cell_type": "markdown",
      "source": [
        "Say, we have to encode the first datapoint:"
      ],
      "metadata": {
        "id": "S5Dy7Ovc294M"
      }
    },
    {
      "cell_type": "markdown",
      "source": [
        "\n",
        "\n",
        "<center><img src='https://d2beiqkhq929f0.cloudfront.net/public_assets/assets/000/063/392/original/z3.png?1706173622' width=800></center>\n",
        "\n",
        "\n",
        "\n",
        "\n",
        "\n",
        "\n",
        "\n",
        "\n"
      ],
      "metadata": {
        "id": "ijm5rCgC3381"
      }
    },
    {
      "cell_type": "markdown",
      "source": [
        "Once it is done encoding it, it'll move the 2nd datapoint.\n",
        "\n"
      ],
      "metadata": {
        "id": "OOS4WsDQ378G"
      }
    },
    {
      "cell_type": "markdown",
      "source": [
        "\n",
        "\n",
        "<center><img src='https://d2beiqkhq929f0.cloudfront.net/public_assets/assets/000/063/393/original/z4.png?1706173842' width=800></center>\n",
        "\n",
        "\n"
      ],
      "metadata": {
        "id": "8g_1_fk84tiq"
      }
    },
    {
      "cell_type": "markdown",
      "source": [
        "Similarly, it'll encode the categorical feature of 3rd datapoint"
      ],
      "metadata": {
        "id": "VJUCiAIj4z8U"
      }
    },
    {
      "cell_type": "markdown",
      "source": [
        "\n",
        "\n",
        "<center><img src='https://d2beiqkhq929f0.cloudfront.net/public_assets/assets/000/063/395/original/z5.png?1706174034' width=800></center>\n",
        "\n",
        "\n",
        "\n",
        "\n"
      ],
      "metadata": {
        "id": "NpNw_J3z46Cp"
      }
    },
    {
      "cell_type": "markdown",
      "source": [
        "Notice that\n",
        "- there is an ordering in encoding of datapoints\n",
        "- i.e. from top to bottom.\n",
        "\n",
        "hence, the ordered target encoding."
      ],
      "metadata": {
        "id": "BAQVS29D5gVu"
      }
    },
    {
      "cell_type": "markdown",
      "source": [
        "#### (Extra Read) How are the encoding value being generated?\n",
        "\n",
        "There are multiple options available for generating encoding. You can refer the following artcile if you want to dive deep into it:\n",
        "\n",
        "- Documentation: https://catboost.ai/en/concepts/algorithm-main-stages_cat-to-numberic\n",
        "\n",
        "\n",
        "If you want to dive deep into internals of catboost, you can refer the following resources:\n",
        "\n",
        "research paper: https://arxiv.org/pdf/1706.09516.pdf\n",
        "\n"
      ],
      "metadata": {
        "id": "tH26iybH5qS4"
      }
    },
    {
      "cell_type": "markdown",
      "source": [
        "### Hyperparamters - Catboost"
      ],
      "metadata": {
        "id": "GDOyvLa18y12"
      }
    },
    {
      "cell_type": "markdown",
      "source": [
        "Catboost provides numerous hyperparams to train on\n",
        "- to the point that it can be overwhelming.\n",
        "\n"
      ],
      "metadata": {
        "id": "WwNgD5cm81HO"
      }
    },
    {
      "cell_type": "markdown",
      "source": [
        "documentation: https://catboost.ai/en/docs/concepts/python-reference_catboostclassifier"
      ],
      "metadata": {
        "id": "jcc8QZ659JqQ"
      }
    },
    {
      "cell_type": "markdown",
      "source": [
        "Hyperparam list: https://catboost.ai/en/docs/references/training-parameters/"
      ],
      "metadata": {
        "id": "n3PcQRAN-LOr"
      }
    },
    {
      "cell_type": "markdown",
      "source": [
        "\n",
        "\n",
        "<center><img src='https://d2beiqkhq929f0.cloudfront.net/public_assets/assets/000/063/401/original/z6.png?1706174909' width=800></center>\n",
        "\n",
        "\n",
        "\n",
        "\n",
        "\n",
        "\n"
      ],
      "metadata": {
        "id": "l1Zht1zm9BGf"
      }
    }
  ]
}